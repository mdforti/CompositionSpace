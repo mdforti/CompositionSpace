{
 "cells": [
  {
   "cell_type": "code",
   "execution_count": 4,
   "id": "74eeaec9-29f6-45bc-a83b-b3a02b5dde42",
   "metadata": {},
   "outputs": [],
   "source": [
    "from jupyterlab_h5web import H5Web\n",
    "from ifes_apt_tc_data_modeling import apt"
   ]
  },
  {
   "cell_type": "code",
   "execution_count": 3,
   "id": "070c49fd-4394-4592-8f3d-e672af77e978",
   "metadata": {},
   "outputs": [
    {
     "data": {
      "application/x-hdf5": "/home/mkuehbach/Sprint15/NfdiMatWerkConference/CompositionSpace/tests/output/file_R31_06365-v02_pos_large_chunks_arr.h5",
      "text/plain": [
       "<jupyterlab_h5web.widget.H5Web object>"
      ]
     },
     "execution_count": 3,
     "metadata": {},
     "output_type": "execute_result"
    }
   ],
   "source": [
    "fnm = \"tests/output/file_R31_06365-v02_pos_large_chunks_arr.h5\"\n",
    "H5Web(fnm)"
   ]
  },
  {
   "cell_type": "code",
   "execution_count": null,
   "id": "ea7fe220-1875-4ae8-9edc-a915d1a87107",
   "metadata": {},
   "outputs": [],
   "source": []
  }
 ],
 "metadata": {
  "kernelspec": {
   "display_name": "Python 3 (ipykernel)",
   "language": "python",
   "name": "python3"
  },
  "language_info": {
   "codemirror_mode": {
    "name": "ipython",
    "version": 3
   },
   "file_extension": ".py",
   "mimetype": "text/x-python",
   "name": "python",
   "nbconvert_exporter": "python",
   "pygments_lexer": "ipython3",
   "version": "3.9.12"
  }
 },
 "nbformat": 4,
 "nbformat_minor": 5
}
