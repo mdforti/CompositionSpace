{
 "cells": [
  {
   "cell_type": "code",
   "execution_count": 19,
   "id": "c3d54e7c",
   "metadata": {},
   "outputs": [],
   "source": [
    "# Import libraries\n",
    "import sys\n",
    "import os\n",
    "import json \n",
    "import pandas as pd\n",
    "import numpy as np\n",
    "import matplotlib.pylab as plt\n",
    "import h5py\n",
    "from jupyterlab_h5web import H5Web"
   ]
  },
  {
   "cell_type": "code",
   "execution_count": 20,
   "id": "1dc0f43e",
   "metadata": {},
   "outputs": [],
   "source": [
    "from compositionspace.datautils import DataPreparation\n",
    "from compositionspace.segmentation import CompositionClustering\n",
    "from compositionspace.postprocessing import DataPostprocess"
   ]
  },
  {
   "cell_type": "code",
   "execution_count": 21,
   "id": "b1d069f8",
   "metadata": {
    "tags": []
   },
   "outputs": [],
   "source": [
    "run = False\n",
    "if run is True:\n",
    "    data = DataPreparation(\"experiment_params.yaml\")\n",
    "    df_lst, files, ions, rrngs= data.get_apt_dataframe()\n",
    "    # print(f\"{df_lst}, type {type(df_lst)}\")\n",
    "    # print(files)\n",
    "    # print(ions)\n",
    "    # print(rrngs)\n",
    "\n",
    "    for idx, file in enumerate(files):\n",
    "        org_file = df_lst[idx]\n",
    "        atoms_spec = []\n",
    "        c = np.unique(rrngs.comp.values)\n",
    "        for i in range(len(c)):\n",
    "            range_element = rrngs[rrngs['comp']=='{}'.format(c[i])]\n",
    "            total, count = data.atom_filter(org_file, range_element)\n",
    "            name = i\n",
    "            total[\"spec\"] = [name for j in range(len(total))]\n",
    "            atoms_spec.append(total)\n",
    "    # print(atoms_spec)\n",
    "    df_atom_spec = pd.concat(atoms_spec)\n",
    "    # print(df_atom_spec)"
   ]
  },
  {
   "cell_type": "markdown",
   "id": "22629265-7afc-48e7-93f4-dce993626ecd",
   "metadata": {},
   "source": [
    "## Load positions and iontypes from paraprobe-transcoder and paraprobe-ranger results"
   ]
  },
  {
   "cell_type": "code",
   "execution_count": 22,
   "id": "ecd3a7e2-6c3a-470c-8c64-e7fdad7e44fd",
   "metadata": {},
   "outputs": [],
   "source": [
    "recon_fnm = \"data/PARAPROBE.Transcoder.Results.SimID.636502001.nxs\"\n",
    "range_fnm = \"data/PARAPROBE.Ranger.Results.SimID.636502001.nxs\""
   ]
  },
  {
   "cell_type": "code",
   "execution_count": 23,
   "id": "d615c926-17f4-4ba2-93d9-acfe0230cdfe",
   "metadata": {},
   "outputs": [],
   "source": [
    "# H5Web(recon_fnm)\n",
    "# H5Web(range_fnm)"
   ]
  },
  {
   "cell_type": "code",
   "execution_count": 24,
   "id": "f4cfaab3-72ab-4dfa-92d4-6d6349a533fe",
   "metadata": {},
   "outputs": [
    {
     "name": "stdout",
     "output_type": "stream",
     "text": [
      "shape (4868202, 3), type <class 'numpy.ndarray'>, dtype float32\n",
      "73, iontypes {'ion0': ('unknown iontype', 0), 'ion1': ('C ++', 1), 'ion2': ('C +', 2), 'ion3': ('O +', 3), 'ion4': ('Ti ++', 4), 'ion5': ('Ti ++', 5), 'ion6': ('Ti ++', 6), 'ion7': ('Ti ++', 7), 'ion8': ('Fe ++', 8), 'ion9': ('Fe +', 9), 'ion10': ('Fe ++', 10), 'ion11': ('Fe ++', 11), 'ion12': ('Fe ++', 12), 'ion13': ('Fe +', 13), 'ion14': ('Al ++', 14), 'ion15': ('Al +++', 15), 'ion16': ('Si ++', 16), 'ion17': ('Si ++', 17), 'ion18': ('Si ++', 18), 'ion19': ('Ti O ++', 19), 'ion20': ('Ti O ++', 20), 'ion21': ('Ti O ++', 21), 'ion22': ('Ti O ++', 22), 'ion23': ('Ti O ++', 23), 'ion24': ('Ti O +', 24), 'ion25': ('Ti O +', 25), 'ion26': ('Ti O +', 26), 'ion27': ('Ti O +', 27), 'ion28': ('Cr ++', 28), 'ion29': ('Cr ++', 29), 'ion30': ('Cr ++', 30), 'ion31': ('Cr +', 31), 'ion32': ('Cr +', 32), 'ion33': ('Mn ++', 33), 'ion34': ('Mn +', 34), 'ion35': ('Co ++', 35), 'ion36': ('Y +++', 36), 'ion37': ('Y ++', 37), 'ion38': ('Ga ++', 38), 'ion39': ('Ga +', 39), 'ion40': ('Cr O ++', 40), 'ion41': ('Cr O ++', 41), 'ion42': ('Cr O +', 42), 'ion43': ('Y O ++', 43), 'ion44': ('Fe H +', 44), 'ion45': ('Ni +', 45), 'ion46': ('Ni +', 46), 'ion47': ('Ni ++', 47), 'ion48': ('Ni +', 48), 'ion49': ('Ni ++', 49), 'ion50': ('V ++', 50), 'ion51': ('Mo ++', 51), 'ion52': ('Mo ++', 52), 'ion53': ('Mo ++', 53), 'ion54': ('Mo ++', 54), 'ion55': ('Mo ++', 55), 'ion56': ('Mo ++', 56), 'ion57': ('Mo', 57), 'ion58': ('B +', 58), 'ion59': ('B ++', 59), 'ion60': ('O H +', 60), 'ion61': ('Si O +', 61), 'ion62': ('Fe O +', 62), 'ion63': ('Fe O +', 63), 'ion64': ('Fe O +', 64), 'ion65': ('Ti O O +', 65), 'ion66': ('Al O ++', 66), 'ion67': ('Al O +', 67), 'ion68': ('Ti C +++', 68), 'ion69': ('Ti C +', 69), 'ion70': ('Ti C +', 70), 'ion71': ('O H H +', 71), 'ion72': ('As ++', 72)}\n",
      "shape (4868202, 1), type <class 'numpy.ndarray'>, dtype uint8\n"
     ]
    }
   ],
   "source": [
    "h5r = h5py.File(recon_fnm, \"r\")\n",
    "trg = \"/entry1/atom_probe/reconstruction/reconstructed_positions\"\n",
    "xyz = h5r[trg][:, :]\n",
    "print(f\"shape {np.shape(xyz)}, type {type(xyz)}, dtype {xyz.dtype}\")\n",
    "\n",
    "trg = \"/entry1/atom_probe/ranging/peak_identification\"\n",
    "n_ion_types = len(h5r[trg])\n",
    "iontypes = {}\n",
    "for ion_id in np.arange(0, n_ion_types):\n",
    "    iontypes[f\"ion{ion_id}\"] = (str(h5r[f\"{trg}/ion{ion_id}/name\"][:].astype(str)[0]), np.uint8(ion_id))\n",
    "print(f\"{n_ion_types}, iontypes {iontypes}\")\n",
    "h5r.close()\n",
    "\n",
    "h5r = h5py.File(range_fnm, \"r\")\n",
    "trg = \"/entry1/process1/apply_existent_ranging\"\n",
    "ityp = h5r[f\"{trg}/iontypes\"][:]\n",
    "print(f\"shape {np.shape(ityp)}, type {type(ityp)}, dtype {ityp.dtype}\")\n",
    "h5r.close()"
   ]
  },
  {
   "cell_type": "code",
   "execution_count": 25,
   "id": "e06e08a0-2049-440e-ac2e-c2c70f5277fd",
   "metadata": {},
   "outputs": [],
   "source": [
    "def ceil_to_multiple(number, multiple):\n",
    "    return multiple * np.ceil(number / multiple)\n",
    "\n",
    "def floor_to_multiple(number, multiple):\n",
    "    return multiple * np.floor(number / multiple)\n",
    "\n",
    "# ceil to a multiple of 1.5\n",
    "# print(ceil_to_multiple(23.0000000000000000000000000000000000000, 1.5))\n",
    "# floor to a multiple of 1.5\n",
    "# print(floor_to_multiple(-23.0000000000000000000000000000000000000, 1.5))"
   ]
  },
  {
   "cell_type": "markdown",
   "id": "1df8aa92-a3eb-4f43-b150-549de68af9e4",
   "metadata": {},
   "source": [
    "## Generate NXapm_composition_space results file"
   ]
  },
  {
   "cell_type": "code",
   "execution_count": 26,
   "id": "380fefb3-0d0e-4d20-88d5-7a97c88d46c5",
   "metadata": {},
   "outputs": [],
   "source": [
    "output_file_name = \"apm.composition.space.nxs\"\n",
    "h5w = h5py.File(output_file_name, \"w\")\n",
    "trg = \"/entry1\"\n",
    "grp = h5w.create_group(\"/entry1\")\n",
    "NX_APPDEF_VERSION = \"nexus-fairmat-proposal successor of 9636feecb79bb32b828b1a9804269573256d7696\"\n",
    "NX_APPDEF_NAME = \"NXapm_composition_space\"\n",
    "grp.attrs[\"version\"] = NX_APPDEF_VERSION\n",
    "grp.attrs[\"NX_class\"] = \"NXentry\"\n",
    "dst = h5w.create_dataset(f\"{trg}/definition\", data=NX_APPDEF_NAME)\n",
    "h5w.close()"
   ]
  },
  {
   "cell_type": "markdown",
   "id": "1df2fbfa-4c55-4cc0-b2c2-31af79e72a8b",
   "metadata": {},
   "source": [
    "## Voxelize with rectangular transfer function without creating slices"
   ]
  },
  {
   "cell_type": "code",
   "execution_count": 27,
   "id": "33255c0b-04a8-4b84-9d70-c2ce3a62cfb2",
   "metadata": {},
   "outputs": [
    {
     "name": "stdout",
     "output_type": "stream",
     "text": [
      "shape (4868202,)\n",
      "aabb3d [-32.  32.], extent 32\n",
      "[-30. -28. -26. -24. -22. -20. -18. -16. -14. -12. -10.  -8.  -6.  -4.\n",
      "  -2.   0.   2.   4.   6.   8.  10.  12.  14.  16.  18.  20.  22.  24.\n",
      "  26.  28.  30.  32.]\n",
      "aabb3d [-32.  32.], extent 32\n",
      "[-30. -28. -26. -24. -22. -20. -18. -16. -14. -12. -10.  -8.  -6.  -4.\n",
      "  -2.   0.   2.   4.   6.   8.  10.  12.  14.  16.  18.  20.  22.  24.\n",
      "  26.  28.  30.  32.]\n",
      "aabb3d [ 0. 72.], extent 36\n",
      "[ 2.  4.  6.  8. 10. 12. 14. 16. 18. 20. 22. 24. 26. 28. 30. 32. 34. 36.\n",
      " 38. 40. 42. 44. 46. 48. 50. 52. 54. 56. 58. 60. 62. 64. 66. 68. 70. 72.]\n",
      "[3213 3397 1717 1448  555  398 3303 1608 1780 3707]\n",
      "36847\n"
     ]
    }
   ],
   "source": [
    "# print(type(df_lst))\n",
    "column_names = ['x', 'y', 'z']\n",
    "# initialize extent (number of cells) along x, y, z axes\n",
    "extent = [0, 0, 0]\n",
    "# initialize min, max bounds for x, y, z\n",
    "aabb3d = np.reshape([np.finfo(np.float32).max, np.finfo(np.float32).min,\n",
    "          np.finfo(np.float32).max, np.finfo(np.float32).min,\n",
    "          np.finfo(np.float32).max, np.finfo(np.float32).min], (3, 2), order=\"C\")\n",
    "# print(aabb3d)\n",
    "n_ions = np.shape(xyz)[0]\n",
    "voxel_identifier = np.asarray(np.zeros(n_ions), np.uint32)\n",
    "print(f\"shape {np.shape(voxel_identifier)}\")\n",
    "# edge length of cubic cells/voxels in nm\n",
    "dedge = 2.0\n",
    "for axis_id in [0, 1, 2]:\n",
    "    column_name = column_names[axis_id]\n",
    "    # i = np.asarray(df_lst[0].loc[:, column_name], np.float32)\n",
    "    aabb3d[axis_id, 0] = floor_to_multiple(np.min((aabb3d[axis_id, 0], np.min(xyz[:, axis_id]))), dedge)\n",
    "    aabb3d[axis_id, 1] = ceil_to_multiple(np.max((aabb3d[axis_id, 1], np.max(xyz[:, axis_id]))), dedge)\n",
    "    extent[axis_id] = np.uint32((aabb3d[axis_id, 1] - aabb3d[axis_id, 0]) / dedge)\n",
    "    print(f\"aabb3d {aabb3d[axis_id, :]}, extent {extent[axis_id]}\")\n",
    "    bins = np.linspace(aabb3d[axis_id, 0] + dedge, aabb3d[axis_id, 0] + (extent[axis_id] * dedge), num=extent[axis_id], endpoint=True)\n",
    "    print(bins)\n",
    "    if axis_id == 0:\n",
    "        voxel_identifier = voxel_identifier + (np.asarray(np.digitize(xyz[:, axis_id], bins, right=True), np.uint32) * 1)\n",
    "    elif axis_id == 1:\n",
    "        voxel_identifier = voxel_identifier + (np.asarray(np.digitize(xyz[:, axis_id], bins, right=True), np.uint32) * np.uint32(extent[0]))\n",
    "    else:\n",
    "        voxel_identifier = voxel_identifier + (np.asarray(np.digitize(xyz[:, axis_id], bins, right=True), np.uint32) * np.uint32(extent[0]) * np.uint32(extent[1]))\n",
    "print(voxel_identifier[0:10])\n",
    "print(np.max(voxel_identifier))"
   ]
  },
  {
   "cell_type": "markdown",
   "id": "2e839ac6-c719-4504-9400-80e51d278c04",
   "metadata": {},
   "source": [
    "Report results of voxelization and metadata for the grid"
   ]
  },
  {
   "cell_type": "code",
   "execution_count": 28,
   "id": "9efae095-f859-4ae9-9a64-fa11f08979db",
   "metadata": {},
   "outputs": [],
   "source": [
    "# voxelization\n",
    "h5w = h5py.File(output_file_name, \"a\")\n",
    "trg = \"/entry1/voxelization\"\n",
    "grp = h5w.create_group(f\"{trg}\")\n",
    "grp.attrs[\"NX_class\"] = \"NXprocess\"\n",
    "dst = h5w.create_dataset(f\"{trg}/sequence_index\", data=np.uint64(1))\n",
    "trg = \"/entry1/voxelization/cg_grid\"\n",
    "grp = h5w.create_group(f\"{trg}\")\n",
    "grp.attrs[\"NX_class\"] = \"NXcg_grid\"\n",
    "dst = h5w.create_dataset(f\"{trg}/dimensionality\", data=np.uint64(3))\n",
    "c = np.prod(extent)\n",
    "dst = h5w.create_dataset(f\"{trg}/cardinality\", data=np.uint64(c))\n",
    "dst = h5w.create_dataset(f\"{trg}/origin\", data=np.asarray([aabb3d[0, 0], aabb3d[1, 0], aabb3d[2, 0]], np.float64))\n",
    "dst = h5w.create_dataset(f\"{trg}/symmetry\", data=\"cubic\")\n",
    "dst = h5w.create_dataset(f\"{trg}/cell_dimensions\", data=np.asarray([dedge, dedge, dedge], np.float64))\n",
    "dst.attrs[\"unit\"] = \"nm\"\n",
    "dst = h5w.create_dataset(f\"{trg}/extent\", data=np.asarray(extent, np.uint32))  # max. 2*32 cells\n",
    "identifier_offset = 0\n",
    "dst = h5w.create_dataset(f\"{trg}/identifier_offset\", data=np.uint64(identifier_offset))  # start counting cells from 0\n",
    "\n",
    "voxel_id = identifier_offset\n",
    "position = np.zeros([c, 3], np.float64)\n",
    "for k in np.arange(0, extent[2]):\n",
    "    z = aabb3d[2, 0] + (0.5 + k) * dedge\n",
    "    for j in np.arange(0, extent[1]):\n",
    "        y = aabb3d[1, 0] + (0.5 + j) * dedge\n",
    "        for i in np.arange(0, extent[0]):\n",
    "            x = aabb3d[0, 0] + (0.5 + i) * dedge\n",
    "            position[voxel_id, :] = [x, y, z]\n",
    "            voxel_id += 1\n",
    "dst = h5w.create_dataset(f\"{trg}/position\", compression=\"gzip\", compression_opts=1, data=position)\n",
    "dst.attrs[\"unit\"] = \"nm\"\n",
    "del position\n",
    "\n",
    "voxel_id = identifier_offset\n",
    "coordinate = np.zeros([c, 3], np.uint32)\n",
    "for k in np.arange(0, extent[2]):\n",
    "    for j in np.arange(0, extent[1]):\n",
    "        for i in np.arange(0, extent[0]):\n",
    "            coordinate[voxel_id, :] = [i, j, k]\n",
    "            voxel_id += 1\n",
    "dst = h5w.create_dataset(f\"{trg}/coordinate\", compression=\"gzip\", compression_opts=1, data=coordinate)\n",
    "del coordinate\n",
    "h5w.close()"
   ]
  },
  {
   "cell_type": "code",
   "execution_count": 29,
   "id": "f61b04e1-9b2f-4631-b0ba-b212038d7719",
   "metadata": {},
   "outputs": [],
   "source": [
    "## Create a sorted lookup table for all ion positions (implicitly specified by their evaporation_id) O(n*log(n)) time-complexity operation wi"
   ]
  },
  {
   "cell_type": "code",
   "execution_count": 30,
   "id": "f31fe6de-1bbe-455f-8634-7c9a63e6a64e",
   "metadata": {},
   "outputs": [
    {
     "name": "stdout",
     "output_type": "stream",
     "text": [
      "[( 8, 3213,  1) ( 8, 3397,  2) ( 8, 1717,  3) ( 8, 1448,  4)\n",
      " ( 8,  555,  5) ( 8,  398,  6) (29, 3303,  7) ( 8, 1608,  8)\n",
      " ( 8, 1780,  9) (29, 3707, 10)]\n",
      "[(0, 302,  2486) (0, 304,  3226) (0, 304,  5573) (0, 304, 13215)\n",
      " (0, 304, 17990) (0, 304, 18548) (0, 332,   173) (0, 333, 25249)\n",
      " (0, 334, 13610) (0, 334, 17234)]\n",
      "[(72, 30824, 4001574) (72, 32290, 4331875) (72, 32443, 4375588)\n",
      " (72, 32540, 4116453) (72, 32911, 4739678) (72, 33091, 4520185)\n",
      " (72, 33866, 4518381) (72, 34491, 4730446) (72, 34555, 4758833)\n",
      " (72, 34967, 4856367)]\n"
     ]
    }
   ],
   "source": [
    "ion_struct = [('iontype', np.uint8), ('voxel_id', np.uint32), ('evap_id', np.uint32)]\n",
    "lu_ityp_voxel_id_evap_id = np.zeros(n_ions, dtype=ion_struct)\n",
    "lu_ityp_voxel_id_evap_id[\"iontype\"] = ityp[:, 0]\n",
    "del ityp\n",
    "lu_ityp_voxel_id_evap_id[\"voxel_id\"] = voxel_identifier\n",
    "# del voxel_identifier\n",
    "lu_ityp_voxel_id_evap_id[\"evap_id\"] = np.asarray(np.linspace(1, n_ions, num=n_ions, endpoint=True), np.uint32)\n",
    "print(lu_ityp_voxel_id_evap_id[0:10])\n",
    "lu_ityp_voxel_id_evap_id = np.sort(lu_ityp_voxel_id_evap_id, kind=\"stable\", order=[\"iontype\", \"voxel_id\", \"evap_id\"])\n",
    "print(lu_ityp_voxel_id_evap_id[0:10])\n",
    "print(lu_ityp_voxel_id_evap_id[-10::])"
   ]
  },
  {
   "cell_type": "code",
   "execution_count": 31,
   "id": "fcbc4f2d-bf0a-47e7-b9e9-29ecc63d49cf",
   "metadata": {},
   "outputs": [],
   "source": [
    "## From this lookup we can very easily now compute the composition table"
   ]
  },
  {
   "cell_type": "code",
   "execution_count": 32,
   "id": "aa22d512-1f4d-42d0-ba4e-4375b406578f",
   "metadata": {
    "tags": []
   },
   "outputs": [
    {
     "name": "stdout",
     "output_type": "stream",
     "text": [
      "cardinality 36864\n",
      "means we have to visit so that many entries in the lookup table 238176\n",
      "but by virtue of construction of the lookup table all the indices will be close in cache\n",
      "ityp 0, np.sum(total_weights) 238176.0\n",
      "ityp 1, np.sum(total_weights) 238286.0\n",
      "ityp 2, np.sum(total_weights) 238571.0\n",
      "ityp 3, np.sum(total_weights) 241498.0\n",
      "ityp 4, np.sum(total_weights) 243540.0\n",
      "ityp 5, np.sum(total_weights) 245455.0\n",
      "ityp 6, np.sum(total_weights) 264818.0\n",
      "ityp 7, np.sum(total_weights) 266245.0\n",
      "ityp 8, np.sum(total_weights) 3816576.0\n",
      "ityp 9, np.sum(total_weights) 3818363.0\n",
      "ityp 10, np.sum(total_weights) 4060876.0\n",
      "ityp 11, np.sum(total_weights) 4143065.0\n",
      "ityp 12, np.sum(total_weights) 4157279.0\n",
      "ityp 13, np.sum(total_weights) 4157480.0\n",
      "ityp 14, np.sum(total_weights) 4159051.0\n",
      "ityp 15, np.sum(total_weights) 4159215.0\n",
      "ityp 16, np.sum(total_weights) 4162639.0\n",
      "ityp 17, np.sum(total_weights) 4162859.0\n",
      "ityp 18, np.sum(total_weights) 4163017.0\n",
      "ityp 19, np.sum(total_weights) 4164222.0\n",
      "ityp 20, np.sum(total_weights) 4171861.0\n",
      "ityp 21, np.sum(total_weights) 4172661.0\n",
      "ityp 22, np.sum(total_weights) 4173162.0\n",
      "ityp 23, np.sum(total_weights) 4173819.0\n",
      "ityp 24, np.sum(total_weights) 4175859.0\n",
      "ityp 25, np.sum(total_weights) 4176394.0\n",
      "ityp 26, np.sum(total_weights) 4176728.0\n",
      "ityp 27, np.sum(total_weights) 4177079.0\n",
      "ityp 28, np.sum(total_weights) 4207092.0\n",
      "ityp 29, np.sum(total_weights) 4771164.0\n",
      "ityp 30, np.sum(total_weights) 4834561.0\n",
      "ityp 31, np.sum(total_weights) 4834797.0\n",
      "ityp 32, np.sum(total_weights) 4835057.0\n",
      "ityp 33, np.sum(total_weights) 4837142.0\n",
      "ityp 34, np.sum(total_weights) 4837338.0\n",
      "ityp 35, np.sum(total_weights) 4838552.0\n",
      "ityp 36, np.sum(total_weights) 4842570.0\n",
      "ityp 37, np.sum(total_weights) 4842982.0\n",
      "ityp 38, np.sum(total_weights) 4843202.0\n",
      "ityp 39, np.sum(total_weights) 4843728.0\n",
      "ityp 40, np.sum(total_weights) 4844471.0\n",
      "ityp 41, np.sum(total_weights) 4844574.0\n",
      "ityp 42, np.sum(total_weights) 4844877.0\n",
      "ityp 43, np.sum(total_weights) 4847695.0\n",
      "ityp 44, np.sum(total_weights) 4849863.0\n",
      "ityp 45, np.sum(total_weights) 4850756.0\n",
      "ityp 46, np.sum(total_weights) 4851123.0\n",
      "ityp 47, np.sum(total_weights) 4852538.0\n",
      "ityp 48, np.sum(total_weights) 4852796.0\n",
      "ityp 49, np.sum(total_weights) 4853120.0\n",
      "ityp 50, np.sum(total_weights) 4854500.0\n",
      "ityp 51, np.sum(total_weights) 4855579.0\n",
      "ityp 52, np.sum(total_weights) 4856231.0\n",
      "ityp 53, np.sum(total_weights) 4857370.0\n",
      "ityp 54, np.sum(total_weights) 4858608.0\n",
      "ityp 55, np.sum(total_weights) 4859347.0\n",
      "ityp 56, np.sum(total_weights) 4861204.0\n",
      "ityp 57, np.sum(total_weights) 4861918.0\n",
      "ityp 58, np.sum(total_weights) 4862149.0\n",
      "ityp 59, np.sum(total_weights) 4862299.0\n",
      "ityp 60, np.sum(total_weights) 4864827.0\n",
      "ityp 61, np.sum(total_weights) 4865049.0\n",
      "ityp 62, np.sum(total_weights) 4865141.0\n",
      "ityp 63, np.sum(total_weights) 4865893.0\n",
      "ityp 64, np.sum(total_weights) 4865992.0\n",
      "ityp 65, np.sum(total_weights) 4866559.0\n",
      "ityp 66, np.sum(total_weights) 4866788.0\n",
      "ityp 67, np.sum(total_weights) 4867158.0\n",
      "ityp 68, np.sum(total_weights) 4867263.0\n",
      "ityp 69, np.sum(total_weights) 4867411.0\n",
      "ityp 70, np.sum(total_weights) 4867529.0\n",
      "ityp 71, np.sum(total_weights) 4868055.0\n",
      "ityp 72, np.sum(total_weights) 4868202.0\n",
      "cardinality of cg_grid 36864, n_ions 4868202\n"
     ]
    }
   ],
   "source": [
    "h5w = h5py.File(output_file_name, \"a\")\n",
    "trg = \"/entry1/voxelization/cg_grid\"\n",
    "dst = h5w.create_dataset(f\"{trg}/voxel_identifier\", compression=\"gzip\", compression_opts=1, data=voxel_identifier)\n",
    "\n",
    "c = np.prod(extent)\n",
    "print(f\"cardinality {c}\")\n",
    "# now just add weight/counts for a the iontype-specific part of the lookup-table\n",
    "print(f\"means we have to visit so that many entries in the lookup table {np.sum(lu_ityp_voxel_id_evap_id['iontype'] == 0)}\")\n",
    "print(f\"but by virtue of construction of the lookup table all the indices will be close in cache\")\n",
    "total_weights = np.zeros(c, np.float64)\n",
    "for ityp in np.arange(0, n_ion_types):\n",
    "    inds = np.argwhere(lu_ityp_voxel_id_evap_id[\"iontype\"] == ityp)\n",
    "    offsets = (np.min(inds), np.max(inds))\n",
    "    # print(f\"offsets {offsets}\")\n",
    "    # these are inclusive [min, max] array indices to use on lu_ityp_voxel_id_evap_id !\n",
    "    \n",
    "# alternatively one could make two loops where in the first an offset lookup table is generated\n",
    "# after this point one can drop the iontype and evap_id columns from the lu_ityp_voxel_id_evap_id lookup table\n",
    "    ityp_weights = np.zeros(c, np.float64)\n",
    "    for offset in np.arange(offsets[0], offsets[1] + 1):\n",
    "        idx = lu_ityp_voxel_id_evap_id[\"voxel_id\"][offset]\n",
    "        ityp_weights[idx] += 1.\n",
    "    # print(f\"ityp {ityp}, np.sum(ityp_weights) {np.sum(ityp_weights)}\")\n",
    "    \n",
    "    # atom/molecular ion-type-specific contribution/intensity/count in each voxel/cell\n",
    "    trg = f\"/entry1/voxelization/ion{ityp}\"\n",
    "    grp = h5w.create_group(f\"{trg}\")\n",
    "    grp.attrs[\"NX_class\"] = \"NXion\"\n",
    "    dst = h5w.create_dataset(f\"{trg}/name\", data=iontypes[f\"ion{ityp}\"][0])\n",
    "    dst = h5w.create_dataset(f\"{trg}/weight\", compression=\"gzip\", compression_opts=1, data=ityp_weights)\n",
    "    dst.attrs[\"unit\"] = \"a.u.\"  \n",
    "    \n",
    "    total_weights += ityp_weights\n",
    "    print(f\"ityp {ityp}, np.sum(total_weights) {np.sum(total_weights)}\")\n",
    "print(f\"cardinality of cg_grid {c}, n_ions {n_ions}\")\n",
    "\n",
    "# total atom/molecular ion contribution/intensity/count in each voxel/cell\n",
    "trg = f\"/entry1/voxelization\"\n",
    "grp = h5w.create_dataset(f\"{trg}/total\", compression=\"gzip\", compression_opts=1, data=total_weights)\n",
    "grp.attrs[\"unit\"] = \"a.u.\"\n",
    "h5w.close()\n",
    "\n",
    "# reload weights and compute to compositions if really needed as compositions\n",
    "# dst = h5w.create_dataset(f\"{trg}/composition\", compression=\"gzip\", compression_opts=1, data=###)\n",
    "# dst.attrs[\"unit\"] = \"a.u.\""
   ]
  },
  {
   "cell_type": "code",
   "execution_count": 33,
   "id": "c8a74215-494e-4c6e-8953-b914d3ec4a4a",
   "metadata": {},
   "outputs": [],
   "source": [
    "# For a large number of voxels, say a few million and dozens of iontypes storing all\n",
    "# ityp_weights in main memory might not be useful, instead these should be stored in the HDF5 file\n",
    "# inside the loop and ones the loop is completed, i.e. each total weight for each voxel known\n",
    "# we should update the data in the HDF5 file, alternatively one could also just store the\n",
    "# weights instead of the compositions and then compute the composition with a linear in c*ityp time\n",
    "# complex division, there are even more optimizations one could do, but probably using\n",
    "# multithreading would be a good start before dwelling deeper already this code here is\n",
    "# faster than the original one despite the fact that it works on the entire portland wang\n",
    "# dataset with 4.868 mio ions, while the original test dataset includes only 1.75 mio ions\n",
    "# the top part of the dataset also the code is much shorter to read and eventually even\n",
    "# more robust wrt to how ions are binned with the rectangular transfer function\n",
    "# one should say that this particular implementation (like the original) one needs\n",
    "# substantial modification when one considers a delocalization kernel which spreads\n",
    "# the weight of an ion into the neighboring voxels, this is what paraprobe-nanochem does\n",
    "# one can easily imagine though that the results of this voxelization step can both be\n",
    "# fed into the composition clustering step and here is then also the clear connection\n",
    "# where the capabilities for e.g. the APAV open-source Python library end and Alaukik's\n",
    "# ML/AI work really shines, in fact until now all code including the slicing could have\n",
    "# equally been achieved with paraprobe-nanochem.\n",
    "# Also the excessive reimplementation of file format I/O functions in datautils should\n",
    "# be removed. There is an own Python library for just doing that more robustly and\n",
    "# capable of handling all sorts of molecular ions and charge state analyses included"
   ]
  },
  {
   "cell_type": "code",
   "execution_count": 34,
   "id": "0546df9b-c182-4082-84ae-a3e2e8390a5f",
   "metadata": {},
   "outputs": [
    {
     "data": {
      "application/x-hdf5": "/home/mkuehbach/Sprint15/NfdiMatWerkConference/CompositionSpace/tests/apm.composition.space.nxs",
      "text/plain": [
       "<jupyterlab_h5web.widget.H5Web object>"
      ]
     },
     "execution_count": 34,
     "metadata": {},
     "output_type": "execute_result"
    }
   ],
   "source": [
    "H5Web(\"apm.composition.space.nxs\")"
   ]
  }
 ],
 "metadata": {
  "kernelspec": {
   "display_name": "Python 3 (ipykernel)",
   "language": "python",
   "name": "python3"
  },
  "language_info": {
   "codemirror_mode": {
    "name": "ipython",
    "version": 3
   },
   "file_extension": ".py",
   "mimetype": "text/x-python",
   "name": "python",
   "nbconvert_exporter": "python",
   "pygments_lexer": "ipython3",
   "version": "3.9.12"
  }
 },
 "nbformat": 4,
 "nbformat_minor": 5
}
