{
 "cells": [
  {
   "cell_type": "code",
   "execution_count": 1,
   "id": "c3d54e7c",
   "metadata": {},
   "outputs": [],
   "source": [
    "# Import libraries\n",
    "import sys\n",
    "import os\n",
    "import json \n",
    "import pandas as pd\n",
    "import numpy as np\n",
    "import matplotlib.pylab as plt\n",
    "import h5py\n",
    "from jupyterlab_h5web import H5Web"
   ]
  },
  {
   "cell_type": "code",
   "execution_count": 2,
   "id": "1dc0f43e",
   "metadata": {},
   "outputs": [],
   "source": [
    "from compositionspace.datautils import DataPreparation\n",
    "from compositionspace.segmentation import CompositionClustering\n",
    "from compositionspace.postprocessing import DataPostprocess"
   ]
  },
  {
   "cell_type": "code",
   "execution_count": 3,
   "id": "b1d069f8",
   "metadata": {
    "tags": []
   },
   "outputs": [
    {
     "data": {
      "application/vnd.jupyter.widget-view+json": {
       "model_id": "8c526aa0fb6f401885417e1fd6468d23",
       "version_major": 2,
       "version_minor": 0
      },
      "text/plain": [
       "Reading files:   0%|          | 0/5 [00:00<?, ?it/s]"
      ]
     },
     "metadata": {},
     "output_type": "display_data"
    },
    {
     "data": {
      "application/vnd.jupyter.widget-view+json": {
       "model_id": "02d6b596de734af18f9ec58de15553c1",
       "version_major": 2,
       "version_minor": 0
      },
      "text/plain": [
       "Creating chunks:   0%|          | 0/10 [00:00<?, ?it/s]"
      ]
     },
     "metadata": {},
     "output_type": "display_data"
    },
    {
     "data": {
      "application/vnd.jupyter.widget-view+json": {
       "model_id": "4e34d7705ecd4c38b7d4b843a6acdb38",
       "version_major": 2,
       "version_minor": 0
      },
      "text/plain": [
       "Getting Voxels:   0%|          | 0/10 [00:00<?, ?it/s]"
      ]
     },
     "metadata": {},
     "output_type": "display_data"
    },
    {
     "data": {
      "application/vnd.jupyter.widget-view+json": {
       "model_id": "136d1261cfd24bb78bd93e1b2041abe6",
       "version_major": 2,
       "version_minor": 0
      },
      "text/plain": [
       "Calculating voxel composition:   0%|          | 0/8846 [00:00<?, ?it/s]"
      ]
     },
     "metadata": {},
     "output_type": "display_data"
    },
    {
     "name": "stdout",
     "output_type": "stream",
     "text": [
      "['output/file_R31_06365-v02_pos_large_chunks_arr.h5'], ['output/file_R31_06365-v02_pos_small_chunks_arr.h5'], output/output_vox_ratio_composition.h5\n"
     ]
    }
   ],
   "source": [
    "run = True\n",
    "if run is True:\n",
    "    data = DataPreparation(\"experiment_params.yaml\")\n",
    "    data.get_big_slices()\n",
    "    data.get_voxels()\n",
    "    data.calculate_voxel_composition()\n",
    "    print(f\"{data.chunk_files}, {data.voxel_files}, {data.voxel_ratio_file}\")"
   ]
  },
  {
   "cell_type": "markdown",
   "id": "a6d90be9-6576-49ac-a2d8-1525829a0317",
   "metadata": {},
   "source": [
    "## Run the the PCA cumsum"
   ]
  },
  {
   "cell_type": "code",
   "execution_count": 4,
   "id": "a5326ceb-a87b-4304-9dbb-c2d36e749189",
   "metadata": {},
   "outputs": [
    {
     "name": "stdout",
     "output_type": "stream",
     "text": [
      "[[0. 0. 0. ... 0. 0. 0.]\n",
      " [0. 0. 0. ... 0. 0. 0.]\n",
      " [0. 0. 0. ... 0. 0. 0.]\n",
      " ...\n",
      " [0. 0. 0. ... 0. 0. 0.]\n",
      " [0. 0. 0. ... 0. 0. 0.]\n",
      " [0. 0. 0. ... 0. 0. 0.]]\n"
     ]
    }
   ],
   "source": [
    "from sklearn.decomposition import PCA\n",
    "import h5py\n",
    "import numpy as np\n",
    "\n",
    "input_file_name = \"apm.composition.space.nxs\"\n",
    "h5r = h5py.File(input_file_name, \"r\")\n",
    "src = \"/entry1/voxelization\"\n",
    "total_weights = h5r[f\"{src}/total\"][:]\n",
    "n_ion_types = 73\n",
    "EPSILON = 1.0e-6  # move to params\n",
    "composition_matrix = np.zeros([np.shape(total_weights)[0], n_ion_types], np.float64)\n",
    "for ityp in np.arange(0, n_ion_types):  # make flexible\n",
    "    ityp_weights = h5r[f\"{src}/ion{ityp}/weight\"][:]\n",
    "    if np.shape(ityp_weights) == np.shape(total_weights):\n",
    "        composition_matrix[:, ityp] = np.divide(ityp_weights, total_weights, where= total_weights >= EPSILON)\n",
    "        composition_matrix[np.where(composition_matrix[:, ityp] < EPSILON), ityp] = 0.\n",
    "        composition_matrix[np.isnan(composition_matrix[:, ityp]), ityp] = 0.        \n",
    "    else:\n",
    "        raise LogicError(\"Length of iontype-specific and total weight arrays needs to be the same!\")\n",
    "        break\n",
    "print(composition_matrix)\n",
    "h5r.close()\n",
    "\n",
    "run = True\n",
    "if run is True:  \n",
    "    X_train = composition_matrix  # ratios.drop(['Total_no','vox'], axis=1)\n",
    "    PCAObj = PCA(n_components = n_ion_types)  # len(spec_lst)) \n",
    "    PCATrans = PCAObj.fit_transform(X_train)\n",
    "    PCACumsumArr = np.cumsum(PCAObj.explained_variance_ratio_)\n",
    "\n",
    "run = False\n",
    "if run is True:\n",
    "    plt.figure(figsize=(5,5))\n",
    "    plt.plot( range(1,len(PCACumsumArr)+1,1),PCACumsumArr,\"-o\")\n",
    "    plt.ylabel(\"Explained Variance\")\n",
    "    plt.xlabel('Dimensions')\n",
    "    plt.grid()\n",
    "    output_path = \"output\"\n",
    "    output_path = os.path.join(output_path, \"PCA_cumsum.png\")\n",
    "    plt.savefig(output_path)\n",
    "    plt.show()"
   ]
  },
  {
   "cell_type": "code",
   "execution_count": 5,
   "id": "4c7d183a-201d-4f3d-a856-502d21f59e49",
   "metadata": {},
   "outputs": [],
   "source": [
    "output_file_name = \"apm.composition.space.pca.nxs\"\n",
    "h5w = h5py.File(output_file_name, \"w\")\n",
    "trg = \"/entry1/composition_clustering_pca\"\n",
    "grp = h5w.create_group(trg)\n",
    "grp.attrs[\"NX_class\"] = \"NXprocess\"\n",
    "dst = h5w.create_dataset(f\"{trg}/sequence_index\", data=np.uint64(2))\n",
    "trg = \"/entry1/composition_clustering_pca/result\"\n",
    "grp = h5w.create_group(trg)\n",
    "grp.attrs[\"NX_class\"] = \"NXdata\"\n",
    "grp.attrs[\"axes\"] = \"axis_pca_dimension\"\n",
    "grp.attrs[\"axis_pca_dimension\"] = np.uint64(0)\n",
    "grp.attrs[\"signal\"] = \"axis_explained_variance\"\n",
    "# further attributes\n",
    "# to render it a proper NeXus NXdata object\n",
    "axis_dim = np.asarray(np.linspace(0, n_ion_types - 1, num=n_ion_types, endpoint=True), np.uint32)\n",
    "dst = h5w.create_dataset(f\"{trg}/axis_pca_dimension\", compression=\"gzip\", compression_opts=1, data=axis_dim)\n",
    "dst.attrs[\"long_name\"] = \"Dimension\"\n",
    "# dst.attrs[\"unit\"] = \"\"\n",
    "axis_expl_var = np.asarray(PCACumsumArr, np.float64)\n",
    "dst = h5w.create_dataset(f\"{trg}/axis_explained_variance\", compression=\"gzip\", compression_opts=1, data=axis_expl_var)\n",
    "dst.attrs[\"long_name\"] = \"Explained variance\"\n",
    "# dst.attrs[\"unit\"] = \"1\"\n",
    "h5w.close()"
   ]
  },
  {
   "cell_type": "code",
   "execution_count": 6,
   "id": "83349bd6-d5cd-4cb0-b5c2-9e52f833a24d",
   "metadata": {},
   "outputs": [
    {
     "data": {
      "application/x-hdf5": "/home/mkuehbach/Sprint15/NfdiMatWerkConference/CompositionSpace/tests/apm.composition.space.pca.nxs",
      "text/plain": [
       "<jupyterlab_h5web.widget.H5Web object>"
      ]
     },
     "execution_count": 6,
     "metadata": {},
     "output_type": "execute_result"
    }
   ],
   "source": [
    "H5Web(output_file_name)"
   ]
  },
  {
   "cell_type": "code",
   "execution_count": 7,
   "id": "4fda2add",
   "metadata": {
    "tags": []
   },
   "outputs": [
    {
     "name": "stdout",
     "output_type": "stream",
     "text": [
      "8846\n",
      "['0', '1', '2', '3', '4', '5', '6', '7', '8', '9', '10', '11', '12', '13', '14', '15', '16', '17', '18', '19', '20', '21', '22', '23', '24', '25', '26', 'Total_no', 'vox']\n"
     ]
    },
    {
     "data": {
      "image/png": "[encoded data removed]",
      "text/plain": [
       "<Figure size 500x500 with 1 Axes>"
      ]
     },
     "metadata": {},
     "output_type": "display_data"
    }
   ],
   "source": [
    "comps = CompositionClustering(\"experiment_params.yaml\")\n",
    "res = comps.get_PCA_cumsum(data.voxel_ratio_file, data.voxel_files[0])"
   ]
  },
  {
   "cell_type": "code",
   "execution_count": null,
   "id": "b39d8548-592c-418d-a186-0ad5e7fe8962",
   "metadata": {},
   "outputs": [],
   "source": [
    "with h5py.File(data.voxel_files[0],\"r\") as hdf:\n",
    "    group = hdf.get(\"Group_sm_vox_xyz_Da_spec\")\n",
    "    group0 = hdf.get(\"0\")\n",
    "    spec_lst = list(list(group0.attrs.values())[1])\n",
    "    print(f\"value {spec_lst}, type {type(spec_lst)}, len {len(spec_lst)}\")"
   ]
  },
  {
   "cell_type": "code",
   "execution_count": 8,
   "id": "4c1967bd",
   "metadata": {
    "tags": []
   },
   "outputs": [
    {
     "data": {
      "application/vnd.jupyter.widget-view+json": {
       "model_id": "9a6503abea274995991470ce507af6b6",
       "version_major": 2,
       "version_minor": 0
      },
      "text/plain": [
       "Clustering:   0%|          | 0/9 [00:00<?, ?it/s]"
      ]
     },
     "metadata": {},
     "output_type": "display_data"
    },
    {
     "data": {
      "image/png": "[encoded data removed]",
      "text/plain": [
       "<Figure size 640x480 with 1 Axes>"
      ]
     },
     "metadata": {},
     "output_type": "display_data"
    }
   ],
   "source": [
    "res = comps.get_bics_minimization(data.voxel_ratio_file, data.voxel_files[0])"
   ]
  },
  {
   "cell_type": "code",
   "execution_count": 9,
   "id": "2d742ace-3d6a-4340-9737-905c22ff22e2",
   "metadata": {},
   "outputs": [],
   "source": [
    "## Prepare storage of results of BICS minimization via Gaussian mixture"
   ]
  },
  {
   "cell_type": "code",
   "execution_count": 14,
   "id": "4890f027-a666-4850-b258-facd75cfafe2",
   "metadata": {},
   "outputs": [],
   "source": [
    "output_file_name = \"apm.composition.space.bics.nxs\"\n",
    "h5w = h5py.File(output_file_name, \"w\")\n",
    "trg = \"/entry1/composition_clustering_ic_opt\"  # information criterion optimization (minimization)\n",
    "grp = h5w.create_group(trg)\n",
    "grp.attrs[\"NX_class\"] = \"NXprocess\"\n",
    "dst = h5w.create_dataset(f\"{trg}/sequence_index\", data=np.uint64(3))\n",
    "h5w.close()"
   ]
  },
  {
   "cell_type": "markdown",
   "id": "12d17312-ffe4-421a-963b-25f491ca795d",
   "metadata": {},
   "source": [
    "## Run the BICS minimization"
   ]
  },
  {
   "cell_type": "code",
   "execution_count": 15,
   "id": "b1991995-ed69-4991-a57f-f34950e1194f",
   "metadata": {},
   "outputs": [
    {
     "name": "stdout",
     "output_type": "stream",
     "text": [
      "[[0. 0. 0. ... 0. 0. 0.]\n",
      " [0. 0. 0. ... 0. 0. 0.]\n",
      " [0. 0. 0. ... 0. 0. 0.]\n",
      " ...\n",
      " [0. 0. 0. ... 0. 0. 0.]\n",
      " [0. 0. 0. ... 0. 0. 0.]\n",
      " [0. 0. 0. ... 0. 0. 0.]]\n"
     ]
    },
    {
     "data": {
      "application/vnd.jupyter.widget-view+json": {
       "model_id": "1bb86369feef41e0bdc6699a7f62e149",
       "version_major": 2,
       "version_minor": 0
      },
      "text/plain": [
       "Clustering:   0%|          | 0/5 [00:00<?, ?it/s]"
      ]
     },
     "metadata": {},
     "output_type": "display_data"
    },
    {
     "data": {
      "image/png": "[encoded data removed]",
      "text/plain": [
       "<Figure size 640x480 with 1 Axes>"
      ]
     },
     "metadata": {},
     "output_type": "display_data"
    }
   ],
   "source": [
    "from sklearn.mixture import GaussianMixture\n",
    "import h5py\n",
    "import numpy as np\n",
    "from tqdm.notebook import tqdm\n",
    "\n",
    "input_file_name = \"apm.composition.space.nxs\"\n",
    "h5r = h5py.File(input_file_name, \"r\")\n",
    "src = \"/entry1/voxelization\"\n",
    "total_weights = h5r[f\"{src}/total\"][:]\n",
    "n_ion_types = 73\n",
    "EPSILON = 1.0e-6  # move to params\n",
    "composition_matrix = np.zeros([np.shape(total_weights)[0], n_ion_types], np.float64)\n",
    "for ityp in np.arange(0, n_ion_types):  # make flexible\n",
    "    ityp_weights = h5r[f\"{src}/ion{ityp}/weight\"][:]\n",
    "    if np.shape(ityp_weights) == np.shape(total_weights):\n",
    "        composition_matrix[:, ityp] = np.divide(ityp_weights, total_weights, where= total_weights >= EPSILON)\n",
    "        composition_matrix[np.where(composition_matrix[:, ityp] < EPSILON), ityp] = 0.\n",
    "        composition_matrix[np.isnan(composition_matrix[:, ityp]), ityp] = 0.        \n",
    "    else:\n",
    "        raise LogicError(\"Length of iontype-specific and total weight arrays needs to be the same!\")\n",
    "        break\n",
    "print(composition_matrix)\n",
    "h5r.close()\n",
    "\n",
    "# what are these ?\n",
    "gm_scores = []\n",
    "aics = []\n",
    "bics = []\n",
    "# y_pred are stored directly into the HDF5 file\n",
    "\n",
    "\n",
    "h5w = h5py.File(output_file_name, \"w\")\n",
    "\n",
    "n_bics_clusters = 5  # 10\n",
    "n_clusters = list(range(1, n_bics_clusters + 1))  # use instead parameter params bics clusters\n",
    "# why does the following result look entirely different by orders of magnitude if you change range to np.arange and drop the list creation?\n",
    "# floating point versus integer numbers, this needs to be checked !!!\n",
    "# again !!! even though now we are using list and range again the result appear random!!!???\n",
    "# run sequentially first to assure\n",
    "pbar = tqdm(n_clusters, desc=\"Clustering\")\n",
    "for n_cluster in pbar:\n",
    "    gm = GaussianMixture(n_components=n_cluster, verbose=0)\n",
    "    gm.fit(X_train)\n",
    "    y_pred = gm.predict(composition_matrix)\n",
    "    #gm_scores.append(homogeneity_score(y, y_pred))\n",
    "    aics.append(gm.aic(composition_matrix))\n",
    "    bics.append(gm.bic(composition_matrix))\n",
    "    \n",
    "    trg = f\"/entry1/composition_clustering_ic_opt/cluster_analysis{n_cluster}\"\n",
    "    grp = h5w.create_group(trg)\n",
    "    grp.attrs[\"NX_class\"] = \"NXprocess\"\n",
    "    dst = h5w.create_dataset(f\"{trg}/y_pred\", compression=\"gzip\", compression_opts=1, data=np.asarray(y_pred, np.uint32))\n",
    "    # eventually store aics and bics\n",
    "\n",
    "h5w.close()\n",
    "\n",
    "output_path = \"output\"\n",
    "output_path = os.path.join(output_path, \"bics_aics.png\")\n",
    "plt.plot(n_clusters, aics, \"-o\",label=\"AIC\")\n",
    "plt.plot(n_clusters, bics, \"-o\",label=\"BIC\")\n",
    "plt.legend()\n",
    "plt.savefig(output_path)\n",
    "plt.show()\n",
    "# return self.params[\"bics_clusters\"], aics, bics"
   ]
  },
  {
   "cell_type": "code",
   "execution_count": 16,
   "id": "53660502-8eba-41f2-8a76-627284055c74",
   "metadata": {},
   "outputs": [],
   "source": [
    "output_file_name = \"apm.composition.space.bics.nxs\"\n",
    "h5w = h5py.File(output_file_name, \"a\")\n",
    "trg = \"/entry1/composition_clustering_ic_opt/summary\"\n",
    "grp = h5w.create_group(trg)\n",
    "grp.attrs[\"NX_class\"] = \"NXdata\"\n",
    "grp.attrs[\"axes\"] = \"axis_dimension\"\n",
    "grp.attrs[\"axis_dimension\"] = np.uint64(0)\n",
    "# grp.attrs[\"signal\"] = \"axis_aic\"  # Akaike information criterion\n",
    "grp.attrs[\"signal\"] = \"axis_bic\"  # Bayes information criterion\n",
    "grp.attrs[\"auxiliary_signals\"] = [\"axis_aic\"]\n",
    "dst = h5w.create_dataset(f\"{trg}/title\", data=\"Information criterion minimization\")\n",
    "\n",
    "# further attributes\n",
    "# to render it a proper NeXus NXdata object\n",
    "axis_dim = np.asarray(np.linspace(1, n_bics_clusters, num=n_bics_clusters, endpoint=True), np.uint32)\n",
    "dst = h5w.create_dataset(f\"{trg}/axis_dimension\", compression=\"gzip\", compression_opts=1, data=axis_dim)\n",
    "dst.attrs[\"long_name\"] = \"Number of cluster\"\n",
    "dst.attrs[\"unit\"] = \"1\"\n",
    "axis_aic = np.asarray(aics, np.float64)\n",
    "dst = h5w.create_dataset(f\"{trg}/axis_aic\", compression=\"gzip\", compression_opts=1, data=axis_aic)\n",
    "# dst.attrs[\"long_name\"] = \"Akaike information criterion\"\n",
    "# dst.attrs[\"unit\"] = \"\"  # is NX_DIMENSIONLESS\n",
    "axis_bic = np.asarray(bics, np.float64)\n",
    "dst = h5w.create_dataset(f\"{trg}/axis_bic\", compression=\"gzip\", compression_opts=1, data=axis_bic)\n",
    "dst.attrs[\"long_name\"] = \"Information criterion value\"  # \"Bayes information criterion\"\n",
    "# dst.attrs[\"unit\"] = \"\"  # is NX_DIMENSIONLESS\n",
    "h5w.close()"
   ]
  },
  {
   "cell_type": "code",
   "execution_count": 17,
   "id": "f896c279-fb03-443d-9c43-73402cdb0ca4",
   "metadata": {},
   "outputs": [
    {
     "data": {
      "application/x-hdf5": "/home/mkuehbach/Sprint15/NfdiMatWerkConference/CompositionSpace/tests/apm.composition.space.bics.nxs",
      "text/plain": [
       "<jupyterlab_h5web.widget.H5Web object>"
      ]
     },
     "execution_count": 17,
     "metadata": {},
     "output_type": "execute_result"
    }
   ],
   "source": [
    "H5Web(output_file_name)"
   ]
  },
  {
   "cell_type": "markdown",
   "id": "3667abf2-6017-4232-9aa6-d9e7f1bede9d",
   "metadata": {},
   "source": [
    "<div class=\"alert alert-block alert-danger\">\n",
    "Discussion points:<br>\n",
    "* Modify NXapm_composition_space<br>\n",
    "* What to show how to show?<br>\n",
    "* Number of cluster vs Number of clusters? wording...?<br>\n",
    "* Why to run the gm several times, ones in the bics loop ones in get composition cluster files \n",
    "</div>"
   ]
  },
  {
   "cell_type": "code",
   "execution_count": 44,
   "id": "a9431a6c",
   "metadata": {
    "tags": []
   },
   "outputs": [],
   "source": [
    "comps.get_composition_clusters(data.voxel_ratio_file, data.voxel_files[0])"
   ]
  },
  {
   "cell_type": "code",
   "execution_count": 45,
   "id": "8a9e2f33",
   "metadata": {},
   "outputs": [],
   "source": [
    "comps.generate_plots()"
   ]
  },
  {
   "cell_type": "code",
   "execution_count": null,
   "id": "89645fb8",
   "metadata": {},
   "outputs": [],
   "source": [
    "pdata = DataPostprocess(\"experiment_params.yaml\")"
   ]
  },
  {
   "cell_type": "code",
   "execution_count": null,
   "id": "0c7d8434",
   "metadata": {
    "tags": []
   },
   "outputs": [],
   "source": [
    "pdata.DBSCAN_clustering(comps.voxel_centroid_output_file, cluster_id = 0,\n",
    "                        plot=True, plot3d=True, save=True)"
   ]
  },
  {
   "cell_type": "code",
   "execution_count": null,
   "id": "99ec380f-1b05-4a2e-a210-561eb26b24f4",
   "metadata": {},
   "outputs": [],
   "source": []
  }
 ],
 "metadata": {
  "kernelspec": {
   "display_name": "Python 3 (ipykernel)",
   "language": "python",
   "name": "python3"
  },
  "language_info": {
   "codemirror_mode": {
    "name": "ipython",
    "version": 3
   },
   "file_extension": ".py",
   "mimetype": "text/x-python",
   "name": "python",
   "nbconvert_exporter": "python",
   "pygments_lexer": "ipython3",
   "version": "3.9.12"
  }
 },
 "nbformat": 4,
 "nbformat_minor": 5
}
